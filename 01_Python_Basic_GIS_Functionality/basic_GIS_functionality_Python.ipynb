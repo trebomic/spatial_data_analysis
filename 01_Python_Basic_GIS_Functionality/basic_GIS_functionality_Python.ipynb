{
 "cells": [
  {
   "attachments": {},
   "cell_type": "markdown",
   "id": "6f013996",
   "metadata": {},
   "source": [
    "# Basic Geographic Information System (GIS) functionality in Python"
   ]
  },
  {
   "attachments": {},
   "cell_type": "markdown",
   "id": "ac91d4b3",
   "metadata": {},
   "source": [
    "## Libraries and settings"
   ]
  },
  {
   "cell_type": "code",
   "execution_count": null,
   "id": "9e7df9f9",
   "metadata": {},
   "outputs": [],
   "source": [
    "# Libraries\n",
    "import os\n",
    "import folium\n",
    "import openpyxl\n",
    "import platform\n",
    "import pandas as pd\n",
    "import geopandas as gpd\n",
    "\n",
    "# Ignore warnings\n",
    "import warnings\n",
    "warnings.filterwarnings('ignore')"
   ]
  },
  {
   "attachments": {},
   "cell_type": "markdown",
   "id": "74014b9e",
   "metadata": {},
   "source": [
    "## Import a map of municipalities"
   ]
  },
  {
   "cell_type": "code",
   "execution_count": null,
   "id": "a7e97f0f",
   "metadata": {},
   "outputs": [],
   "source": [
    "# Polygonmap als .json-File\n",
    "polys = gpd.read_file(\"GEN_A4_GEMEINDEN_2019_epsg4326.json\")\n",
    "\n",
    "# Structure and type\n",
    "print(\"nrows, ncols\", polys.shape)\n",
    "print(\"-------------------------------------------------------\")\n",
    "print(\"Type:\", type(polys))\n",
    "\n",
    "# Object 'polys' is a GeoDataFrame\n",
    "polys.head()"
   ]
  },
  {
   "attachments": {},
   "cell_type": "markdown",
   "id": "e0c44639",
   "metadata": {},
   "source": [
    "## Plotting the map"
   ]
  },
  {
   "cell_type": "code",
   "execution_count": null,
   "id": "124fad48",
   "metadata": {},
   "outputs": [],
   "source": [
    "# Initialisierung der Map\n",
    "m = folium.Map(location=[47.44, 8.65], zoom_start=10)\n",
    "\n",
    "# Map settings\n",
    "folium.Choropleth(\n",
    "    geo_data=polys,\n",
    "    name='polys',\n",
    "    fill_color='greenyellow'\n",
    ").add_to(m)\n",
    "\n",
    "folium.LayerControl().add_to(m)\n",
    "\n",
    "# Plot map\n",
    "m"
   ]
  },
  {
   "attachments": {},
   "cell_type": "markdown",
   "id": "06758daa",
   "metadata": {},
   "source": [
    "## Creating a spatial subset"
   ]
  },
  {
   "cell_type": "code",
   "execution_count": null,
   "id": "48f61ac4",
   "metadata": {},
   "outputs": [],
   "source": [
    "# Subset is formed by using indexing\n",
    "idx = polys[polys['NAME'] == 'Winterthur'].index[0]\n",
    "polys.iloc[[idx]]"
   ]
  },
  {
   "attachments": {},
   "cell_type": "markdown",
   "id": "1ef00083",
   "metadata": {},
   "source": [
    "## Plotting the spatial subset"
   ]
  },
  {
   "cell_type": "code",
   "execution_count": null,
   "id": "e4b238f4",
   "metadata": {},
   "outputs": [],
   "source": [
    "m = folium.Map(location=[47.44, 8.65], zoom_start=11)\n",
    "\n",
    "# Map settings\n",
    "folium.Choropleth(\n",
    "    geo_data=polys.iloc[[idx]],\n",
    "    name='polys',\n",
    "    fill_color='greenyellow'\n",
    ").add_to(m)\n",
    "\n",
    "folium.LayerControl().add_to(m)\n",
    "\n",
    "# Plot map\n",
    "m"
   ]
  },
  {
   "attachments": {},
   "cell_type": "markdown",
   "id": "20a92cec",
   "metadata": {},
   "source": [
    "## Importing municipality data"
   ]
  },
  {
   "cell_type": "code",
   "execution_count": null,
   "id": "ac9ca60b",
   "metadata": {},
   "outputs": [],
   "source": [
    "data = pd.read_excel('municipalities_kt_zh_data.xlsx', index_col=None)\n",
    "print(type(data))\n",
    "\n",
    "data.head(5)"
   ]
  },
  {
   "attachments": {},
   "cell_type": "markdown",
   "id": "2b7431b2",
   "metadata": {},
   "source": [
    "## Creating a choropleth map"
   ]
  },
  {
   "cell_type": "code",
   "execution_count": null,
   "id": "53a0ebb1",
   "metadata": {},
   "outputs": [],
   "source": [
    "# Variable to plot\n",
    "var = 'residents_per_km2'\n",
    "\n",
    "# Function for hiding the default legend\n",
    "def folium_del_legend(choropleth: folium.Choropleth):\n",
    "    del_list = []\n",
    "    for child in choropleth._children:\n",
    "        if child.startswith('color_map'):\n",
    "            del_list.append(child)\n",
    "            for del_item in del_list:\n",
    "                choropleth._children.pop(del_item)\n",
    "                return choropleth\n",
    "\n",
    "# Bins for the color range\n",
    "bins = list(data[var].quantile([0.00, 0.25, 0.50, 0.75, 1.00]))\n",
    "\n",
    "# Initialize map\n",
    "m = folium.Map(location=[47.44, 8.65], zoom_start=10)\n",
    "\n",
    "# Map-Settings (key_on contains the key to match the attribute data)\n",
    "folium.Choropleth(\n",
    "        geo_data=polys,\n",
    "        name='choropleth',\n",
    "        data=data,\n",
    "        columns=['BFS', var],\n",
    "        key_on='feature.properties.BFS',\n",
    "        fill_color='RdGy',\n",
    "        fill_opacity=0.7,\n",
    "        line_opacity=0.5,\n",
    "        legend_name=var,\n",
    "        bins=bins,\n",
    "        reset=True\n",
    ").add_to(m)\n",
    "\n",
    "# Layer controls\n",
    "folium.LayerControl().add_to(m)\n",
    "\n",
    "# Plotting the map\n",
    "m"
   ]
  },
  {
   "cell_type": "code",
   "execution_count": null,
   "id": "e3c6288b",
   "metadata": {},
   "outputs": [],
   "source": [
    "# Create a map with the absolute number of inhabitants and color it (choropleth map). \n",
    "# Extract and display population figures\n",
    "einwohner_zuerich = data.loc[data['municipality_name'] == 'Zürich', 'residents'].iloc[0]\n",
    "einwohner_uster = data.loc[data['municipality_name'] == 'Uster', 'residents'].iloc[0]\n",
    "\n",
    "print(f\"Absolute Einwohnerzahl von Zürich: {einwohner_zuerich}\")\n",
    "print(f\"Absolute Einwohnerzahl von Uster: {einwohner_uster}\")\n",
    "\n",
    "# Extract the data for Zurich and Uster\n",
    "data_subset = data[data['municipality_name'].isin(['Zürich', 'Uster'])]\n",
    "\n",
    "# Create a map centered around Zurich and Uster\n",
    "m = folium.Map(location=[47.36667, 8.55], zoom_start=10)\n",
    "\n",
    "# Define the bins for the choropleth map based on the population data\n",
    "# You may need to adjust these bins based on your actual data\n",
    "bins = list(data_subset['residents'].quantile([0, 0.25, 0.5, 0.75, 1]))\n",
    "\n",
    "# Add the choropleth layer\n",
    "folium.Choropleth(\n",
    "    geo_data=polys,\n",
    "    name='choropleth',\n",
    "    data=data_subset,\n",
    "    columns=['BFS', 'residents'],  # Assuming 'BFS' is the identifier in your data\n",
    "    key_on='feature.properties.BFS',\n",
    "    fill_color='YlOrRd',  # Using a string for a built-in color palette\n",
    "    fill_opacity=0.7,\n",
    "    line_opacity=0.2,\n",
    "    legend_name='Number of inhabitants',\n",
    "    bins=bins,\n",
    "    reset=True\n",
    ").add_to(m)\n",
    "\n",
    "# Add layer control\n",
    "folium.LayerControl().add_to(m)\n",
    "\n",
    "# Save the map to an HTML file\n",
    "m"
   ]
  },
  {
   "attachments": {},
   "cell_type": "markdown",
   "id": "ee1261a7",
   "metadata": {},
   "source": [
    "### Jupyter notebook --footer info-- (please always provide this at the end of each notebook)"
   ]
  },
  {
   "cell_type": "code",
   "execution_count": null,
   "id": "71dda2ae",
   "metadata": {},
   "outputs": [],
   "source": [
    "import os\n",
    "import platform\n",
    "import socket\n",
    "from platform import python_version\n",
    "from datetime import datetime\n",
    "\n",
    "print('-----------------------------------')\n",
    "print(os.name.upper())\n",
    "print(platform.system(), '|', platform.release())\n",
    "print('Datetime:', datetime.now().strftime(\"%Y-%m-%d %H:%M:%S\"))\n",
    "print('Python Version:', python_version())\n",
    "print('-----------------------------------')"
   ]
  },
  {
   "cell_type": "code",
   "execution_count": null,
   "id": "c9a6c296",
   "metadata": {},
   "outputs": [],
   "source": []
  }
 ],
 "metadata": {
  "kernelspec": {
   "display_name": "Python 3 (ipykernel)",
   "language": "python",
   "name": "python3"
  },
  "language_info": {
   "codemirror_mode": {
    "name": "ipython",
    "version": 3
   },
   "file_extension": ".py",
   "mimetype": "text/x-python",
   "name": "python",
   "nbconvert_exporter": "python",
   "pygments_lexer": "ipython3",
   "version": "0.0.0"
  },
  "vscode": {
   "interpreter": {
    "hash": "310062d2f6c5035cc8617fa2b0b1d24502733271563bfb3e56ba43405c374cd1"
   }
  }
 },
 "nbformat": 4,
 "nbformat_minor": 5
}
